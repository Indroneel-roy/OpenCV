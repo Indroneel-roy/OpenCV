{
 "cells": [
  {
   "cell_type": "code",
   "execution_count": 1,
   "id": "68ce19a4",
   "metadata": {},
   "outputs": [],
   "source": [
    "import numpy as np\n",
    "import cv2"
   ]
  },
  {
   "cell_type": "code",
   "execution_count": 3,
   "id": "49062407",
   "metadata": {},
   "outputs": [],
   "source": [
    "img = cv2.imread('./images/happy_parents.jpg')\n",
    "cv2.imshow('happy parents',img)\n",
    "cv2.waitKey(0)\n",
    "cv2.destroyAllWindows()"
   ]
  },
  {
   "cell_type": "code",
   "execution_count": 4,
   "id": "cffea93a",
   "metadata": {},
   "outputs": [],
   "source": [
    "#load the model\n",
    "face_detection_model = cv2.dnn.readNetFromCaffe('./model/deploy.prototxt.txt',\n",
    "                                               './model/res10_300x300_ssd_iter_140000.caffemodel')"
   ]
  },
  {
   "cell_type": "code",
   "execution_count": 26,
   "id": "003abb6d",
   "metadata": {},
   "outputs": [],
   "source": [
    "#Blob from image\n",
    "image = img.copy()\n",
    "face_mask = np.zeros(image.shape[:2], dtype=('uint8'))\n",
    "\n",
    "blob = cv2.dnn.blobFromImage(image,1,(300,300),(104,177,123),swapRB=True)\n",
    "face_detection_model.setInput(blob)\n",
    "detections = face_detection_model.forward()\n",
    "\n",
    "h,w = image.shape[:2]\n",
    "for i in range(detections.shape[2]):\n",
    "    confidence = detections[0,0,i,2]\n",
    "    if confidence > 0.5:\n",
    "        box = detections[0,0,i,3:7]*np.array([w,h,w,h])\n",
    "        box = box.astype(int)\n",
    "        cv2.rectangle(face_mask,(box[0],box[1]),(box[2],box[3]),255,-1)\n",
    "inv_face_mask = cv2.bitwise_not(face_mask)\n",
    "#step-3 apply mask image to original image\n",
    "bg = cv2.bitwise_and(image,image,mask=face_mask)\n",
    "fg = cv2.bitwise_and(image,image,mask=inv_face_mask)\n",
    "#step-4 blur bg_img with gaussian blur\n",
    "bg_img_blur = cv2.GaussianBlur(bg, (51,51),0)\n",
    "#step-5 addition\n",
    "face_blur = cv2.add(fg,bg_img_blur)\n",
    "\n",
    "cv2.imshow('original',image)\n",
    "cv2.imshow('blur face', face_blur)\n",
    "cv2.waitKey(0)\n",
    "cv2.destroyAllWindows()"
   ]
  },
  {
   "cell_type": "code",
   "execution_count": 7,
   "id": "1315b679",
   "metadata": {},
   "outputs": [
    {
     "data": {
      "text/plain": [
       "(1, 1, 200, 7)"
      ]
     },
     "execution_count": 7,
     "metadata": {},
     "output_type": "execute_result"
    }
   ],
   "source": [
    "detections.shape"
   ]
  },
  {
   "cell_type": "code",
   "execution_count": null,
   "id": "0b0ceb95",
   "metadata": {},
   "outputs": [],
   "source": []
  },
  {
   "cell_type": "code",
   "execution_count": null,
   "id": "e91ae96f",
   "metadata": {},
   "outputs": [],
   "source": []
  }
 ],
 "metadata": {
  "kernelspec": {
   "display_name": "Python 3 (ipykernel)",
   "language": "python",
   "name": "python3"
  },
  "language_info": {
   "codemirror_mode": {
    "name": "ipython",
    "version": 3
   },
   "file_extension": ".py",
   "mimetype": "text/x-python",
   "name": "python",
   "nbconvert_exporter": "python",
   "pygments_lexer": "ipython3",
   "version": "3.9.13"
  }
 },
 "nbformat": 4,
 "nbformat_minor": 5
}
