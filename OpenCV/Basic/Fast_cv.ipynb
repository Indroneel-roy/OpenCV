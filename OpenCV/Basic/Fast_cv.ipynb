{
 "cells": [
  {
   "cell_type": "code",
   "execution_count": 1,
   "id": "8bd85bdf",
   "metadata": {},
   "outputs": [],
   "source": [
    "import numpy as np\n",
    "import cv2"
   ]
  },
  {
   "cell_type": "code",
   "execution_count": 2,
   "id": "107c8d92",
   "metadata": {},
   "outputs": [
    {
     "name": "stdout",
     "output_type": "stream",
     "text": [
      "None\n"
     ]
    }
   ],
   "source": [
    "img = cv2.imread('./images/flemingo.jpg')\n",
    "print(img)"
   ]
  },
  {
   "cell_type": "code",
   "execution_count": 3,
   "id": "0beccd7c",
   "metadata": {},
   "outputs": [
    {
     "ename": "AttributeError",
     "evalue": "'NoneType' object has no attribute 'shape'",
     "output_type": "error",
     "traceback": [
      "\u001b[1;31m---------------------------------------------------------------------------\u001b[0m",
      "\u001b[1;31mAttributeError\u001b[0m                            Traceback (most recent call last)",
      "\u001b[1;32m~\\AppData\\Local\\Temp\\ipykernel_11428\\4260751373.py\u001b[0m in \u001b[0;36m<module>\u001b[1;34m\u001b[0m\n\u001b[1;32m----> 1\u001b[1;33m \u001b[0mimg\u001b[0m\u001b[1;33m.\u001b[0m\u001b[0mshape\u001b[0m\u001b[1;33m\u001b[0m\u001b[1;33m\u001b[0m\u001b[0m\n\u001b[0m",
      "\u001b[1;31mAttributeError\u001b[0m: 'NoneType' object has no attribute 'shape'"
     ]
    }
   ],
   "source": [
    "img.shape"
   ]
  },
  {
   "cell_type": "code",
   "execution_count": 4,
   "id": "42ebba8f",
   "metadata": {},
   "outputs": [
    {
     "ename": "error",
     "evalue": "OpenCV(4.7.0) D:\\a\\opencv-python\\opencv-python\\opencv\\modules\\highgui\\src\\window.cpp:971: error: (-215:Assertion failed) size.width>0 && size.height>0 in function 'cv::imshow'\n",
     "output_type": "error",
     "traceback": [
      "\u001b[1;31m---------------------------------------------------------------------------\u001b[0m",
      "\u001b[1;31merror\u001b[0m                                     Traceback (most recent call last)",
      "\u001b[1;32m~\\AppData\\Local\\Temp\\ipykernel_11428\\1181827401.py\u001b[0m in \u001b[0;36m<module>\u001b[1;34m\u001b[0m\n\u001b[1;32m----> 1\u001b[1;33m \u001b[0mcv2\u001b[0m\u001b[1;33m.\u001b[0m\u001b[0mimshow\u001b[0m\u001b[1;33m(\u001b[0m\u001b[1;34m'winname'\u001b[0m\u001b[1;33m,\u001b[0m \u001b[0mimg\u001b[0m\u001b[1;33m)\u001b[0m\u001b[1;33m\u001b[0m\u001b[1;33m\u001b[0m\u001b[0m\n\u001b[0m\u001b[0;32m      2\u001b[0m \u001b[0mcv2\u001b[0m\u001b[1;33m.\u001b[0m\u001b[0mwaitKey\u001b[0m\u001b[1;33m(\u001b[0m\u001b[1;36m10000\u001b[0m\u001b[1;33m)\u001b[0m\u001b[1;33m\u001b[0m\u001b[1;33m\u001b[0m\u001b[0m\n\u001b[0;32m      3\u001b[0m \u001b[0mcv2\u001b[0m\u001b[1;33m.\u001b[0m\u001b[0mdestroyAllWindows\u001b[0m\u001b[1;33m(\u001b[0m\u001b[1;33m)\u001b[0m\u001b[1;33m\u001b[0m\u001b[1;33m\u001b[0m\u001b[0m\n",
      "\u001b[1;31merror\u001b[0m: OpenCV(4.7.0) D:\\a\\opencv-python\\opencv-python\\opencv\\modules\\highgui\\src\\window.cpp:971: error: (-215:Assertion failed) size.width>0 && size.height>0 in function 'cv::imshow'\n"
     ]
    }
   ],
   "source": [
    "cv2.imshow('winname', img)\n",
    "cv2.waitKey(10000)\n",
    "cv2.destroyAllWindows()"
   ]
  },
  {
   "cell_type": "markdown",
   "id": "bbcc74f6",
   "metadata": {},
   "source": [
    "# save an image"
   ]
  },
  {
   "cell_type": "code",
   "execution_count": 8,
   "id": "ba831776",
   "metadata": {},
   "outputs": [
    {
     "data": {
      "text/plain": [
       "True"
      ]
     },
     "execution_count": 8,
     "metadata": {},
     "output_type": "execute_result"
    }
   ],
   "source": [
    "cv2.imwrite('./images/ex.png', img)"
   ]
  },
  {
   "cell_type": "markdown",
   "id": "b12d955f",
   "metadata": {},
   "source": [
    "# convert images"
   ]
  },
  {
   "cell_type": "code",
   "execution_count": 9,
   "id": "24f765fa",
   "metadata": {},
   "outputs": [],
   "source": [
    "b,g,r = cv2.split(img)"
   ]
  },
  {
   "cell_type": "code",
   "execution_count": 10,
   "id": "f0c260dd",
   "metadata": {},
   "outputs": [],
   "source": [
    "cv2.imshow('color', img)\n",
    "cv2.imshow('red', r)\n",
    "cv2.imshow('green', g)\n",
    "cv2.imshow('blue', b)\n",
    "cv2.waitKey(0)\n",
    "cv2.destroyAllWindows()"
   ]
  },
  {
   "cell_type": "markdown",
   "id": "47a74923",
   "metadata": {},
   "source": [
    "# Color conversion"
   ]
  },
  {
   "cell_type": "code",
   "execution_count": 11,
   "id": "12ed6080",
   "metadata": {},
   "outputs": [],
   "source": [
    "img_rgb = cv2.cvtColor(img, cv2.COLOR_BGR2RGB)\n",
    "img_gray = cv2.cvtColor(img, cv2.COLOR_BGR2GRAY)"
   ]
  },
  {
   "cell_type": "code",
   "execution_count": 12,
   "id": "7d9424fd",
   "metadata": {},
   "outputs": [],
   "source": [
    "cv2.imshow(\"rgb\", img_rgb)\n",
    "cv2.imshow(\"gray\", img_gray)\n",
    "cv2.waitKey(0)\n",
    "cv2.destroyAllWindows()"
   ]
  },
  {
   "cell_type": "code",
   "execution_count": 13,
   "id": "ea01065a",
   "metadata": {},
   "outputs": [
    {
     "data": {
      "text/plain": [
       "True"
      ]
     },
     "execution_count": 13,
     "metadata": {},
     "output_type": "execute_result"
    }
   ],
   "source": [
    "cv2.imwrite('./images/gary.png', img_gray)"
   ]
  },
  {
   "cell_type": "markdown",
   "id": "4933e2d1",
   "metadata": {},
   "source": [
    "# accesing and manipulating pixels"
   ]
  },
  {
   "cell_type": "code",
   "execution_count": 14,
   "id": "e5c6325b",
   "metadata": {},
   "outputs": [],
   "source": [
    "img_1 = cv2.imread('./images/bird.jpg')\n"
   ]
  },
  {
   "cell_type": "code",
   "execution_count": 15,
   "id": "e28d688d",
   "metadata": {},
   "outputs": [
    {
     "data": {
      "text/plain": [
       "(681, 640, 3)"
      ]
     },
     "execution_count": 15,
     "metadata": {},
     "output_type": "execute_result"
    }
   ],
   "source": [
    "img_1.shape"
   ]
  },
  {
   "cell_type": "code",
   "execution_count": 16,
   "id": "3525758d",
   "metadata": {},
   "outputs": [],
   "source": [
    "def display(winname, img):\n",
    "    cv2.imshow(winname, img)\n",
    "    cv2.waitKey(0)\n",
    "    cv2.destroyAllWindows()"
   ]
  },
  {
   "cell_type": "code",
   "execution_count": 17,
   "id": "0b18a936",
   "metadata": {},
   "outputs": [],
   "source": [
    "display('winname', img_1)"
   ]
  },
  {
   "cell_type": "code",
   "execution_count": 18,
   "id": "95aeb190",
   "metadata": {},
   "outputs": [],
   "source": [
    "corner = img_1[0:100, 0:100]\n",
    "display('corner', corner)"
   ]
  },
  {
   "cell_type": "code",
   "execution_count": 19,
   "id": "29f0039f",
   "metadata": {},
   "outputs": [],
   "source": [
    "#manipulating\n",
    "img_1[0:200, 0:200] = [200,255,187] #green"
   ]
  },
  {
   "cell_type": "code",
   "execution_count": 20,
   "id": "abdfe266",
   "metadata": {},
   "outputs": [],
   "source": [
    "display(\"manipulate\", img_1)"
   ]
  },
  {
   "cell_type": "markdown",
   "id": "847bd439",
   "metadata": {},
   "source": [
    "# Drawing"
   ]
  },
  {
   "cell_type": "code",
   "execution_count": 21,
   "id": "cc1cf4d1",
   "metadata": {},
   "outputs": [],
   "source": [
    "canvas = np.zeros((400,400,3), dtype='uint8')"
   ]
  },
  {
   "cell_type": "code",
   "execution_count": 22,
   "id": "f3bd48fc",
   "metadata": {},
   "outputs": [],
   "source": [
    "display(\"canvas\", canvas)"
   ]
  },
  {
   "cell_type": "code",
   "execution_count": 24,
   "id": "daddac69",
   "metadata": {},
   "outputs": [],
   "source": [
    "green = (0,255,0)\n",
    "cv2.line(canvas,(0,0),(400,400), green)\n",
    "display(\"line\",canvas)"
   ]
  },
  {
   "cell_type": "markdown",
   "id": "01e4d25c",
   "metadata": {},
   "source": [
    "# working on video"
   ]
  },
  {
   "cell_type": "code",
   "execution_count": 5,
   "id": "06237288",
   "metadata": {},
   "outputs": [],
   "source": [
    "cap = cv2.VideoCapture('./data/clip.mp4')\n",
    "\n",
    "while True:\n",
    "    ret, frame = cap.read()\n",
    "    if ret == False:\n",
    "        break\n",
    "    cv2.imshow('video', frame)\n",
    "    if cv2.waitKey(10) == ord('q'): #press q for closing the window\n",
    "        break\n",
    "cap.release()\n",
    "cv2.destroyAllWindows()\n",
    "        "
   ]
  },
  {
   "cell_type": "code",
   "execution_count": 7,
   "id": "0bc51ebf",
   "metadata": {},
   "outputs": [],
   "source": [
    "#FPS\n",
    "import time\n",
    "cap = cv2.VideoCapture('./data/clip.mp4')\n",
    "fps = 0\n",
    "while True:\n",
    "    start_time = time.time()\n",
    "    ret, frame = cap.read()\n",
    "    if ret == False:\n",
    "        break\n",
    "    cv2.putText(frame,'FPS : {:.0f}'.format(fps), (30,20), cv2.FONT_HERSHEY_SIMPLEX,1.5, (0,255,0))    \n",
    "    cv2.imshow('video', frame)\n",
    "    if cv2.waitKey(10) == ord('q'): #press q for closing the window\n",
    "        break\n",
    "    time_taken = time.time() - start_time\n",
    "    fps = 1/time_taken\n",
    "cap.release()\n",
    "cv2.destroyAllWindows()"
   ]
  },
  {
   "cell_type": "code",
   "execution_count": null,
   "id": "32392abf",
   "metadata": {},
   "outputs": [],
   "source": [
    "f"
   ]
  },
  {
   "cell_type": "code",
   "execution_count": null,
   "id": "492a05f2",
   "metadata": {},
   "outputs": [],
   "source": []
  },
  {
   "cell_type": "code",
   "execution_count": null,
   "id": "4cfb04bc",
   "metadata": {},
   "outputs": [],
   "source": []
  },
  {
   "cell_type": "code",
   "execution_count": null,
   "id": "06c81b30",
   "metadata": {},
   "outputs": [],
   "source": []
  }
 ],
 "metadata": {
  "kernelspec": {
   "display_name": "Python 3 (ipykernel)",
   "language": "python",
   "name": "python3"
  },
  "language_info": {
   "codemirror_mode": {
    "name": "ipython",
    "version": 3
   },
   "file_extension": ".py",
   "mimetype": "text/x-python",
   "name": "python",
   "nbconvert_exporter": "python",
   "pygments_lexer": "ipython3",
   "version": "3.9.13"
  }
 },
 "nbformat": 4,
 "nbformat_minor": 5
}
