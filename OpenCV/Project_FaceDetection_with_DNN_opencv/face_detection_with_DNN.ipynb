{
 "cells": [
  {
   "cell_type": "code",
   "execution_count": 1,
   "id": "103bbfbe",
   "metadata": {},
   "outputs": [],
   "source": [
    "import numpy as np\n",
    "import cv2"
   ]
  },
  {
   "cell_type": "code",
   "execution_count": 2,
   "id": "b9d758e3",
   "metadata": {},
   "outputs": [],
   "source": [
    "img = cv2.imread('./faces.jpg')\n",
    "cv2.imshow('face', img)\n",
    "cv2.waitKey(0)\n",
    "cv2.destroyAllWindows()"
   ]
  },
  {
   "cell_type": "code",
   "execution_count": 5,
   "id": "6aa52111",
   "metadata": {},
   "outputs": [],
   "source": [
    "face_detection_model = cv2.dnn.readNetFromCaffe('./models/deploy.prototxt.txt', './models/res10_300x300_ssd_iter_140000_fp16.caffemodel')"
   ]
  },
  {
   "cell_type": "code",
   "execution_count": 29,
   "id": "cc1d6fcd",
   "metadata": {},
   "outputs": [],
   "source": [
    "def face_detection_dnn(img):\n",
    "    #step_1 blob from image\n",
    "    blob = cv2.dnn.blobFromImage(img,1,(300,300),(104,177,123),swapRB=True)\n",
    "    #step_2 set blob as input\n",
    "    face_detection_model.setInput(blob)\n",
    "    #step_3: output\n",
    "    detection = face_detection_model.forward()\n",
    "    #step_4: drawing bounding box on top of the face detected\n",
    "    image = img.copy()\n",
    "    h,w = image.shape[:2]\n",
    "    for i in range(0, detection.shape[2]):\n",
    "\n",
    "        confidence = detection[0,0,i,2]\n",
    "        if confidence > 0.5:\n",
    "            box = detection[0,0,i,3:7]*np.array([w,h,w,h])\n",
    "            box = box.astype('int')\n",
    "            pt1 = (box[0],box[1])\n",
    "            pt2 = (box[2],box[3])\n",
    "            cv2.rectangle(image,pt1,pt2,(0,255,0),1)\n",
    "            text = 'score : {:.0f}%'.format(confidence*100)\n",
    "            cv2.putText(image,text,pt1,cv2.FONT_HERSHEY_SIMPLEX,1,(0,255,0),2)\n",
    "        \n"
   ]
  },
  {
   "cell_type": "code",
   "execution_count": 30,
   "id": "da673e16",
   "metadata": {},
   "outputs": [],
   "source": [
    "face_detection = face_detection_dnn(img)"
   ]
  },
  {
   "cell_type": "code",
   "execution_count": 31,
   "id": "c068117e",
   "metadata": {},
   "outputs": [],
   "source": [
    "cv2.imshow('face detection', image)\n",
    "cv2.waitKey(0)\n",
    "cv2.destroyAllWindows()"
   ]
  },
  {
   "cell_type": "code",
   "execution_count": 7,
   "id": "8cdd5ba2",
   "metadata": {},
   "outputs": [
    {
     "data": {
      "text/plain": [
       "array([[[[0.        , 1.        , 0.99828076, ..., 0.13435304,\n",
       "          0.37747657, 0.6368804 ],\n",
       "         [0.        , 1.        , 0.93064046, ..., 0.1735116 ,\n",
       "          0.66801995, 0.6749054 ],\n",
       "         [0.        , 1.        , 0.6649139 , ..., 0.14685199,\n",
       "          0.96339893, 0.53605294],\n",
       "         ...,\n",
       "         [0.        , 0.        , 0.        , ..., 0.        ,\n",
       "          0.        , 0.        ],\n",
       "         [0.        , 0.        , 0.        , ..., 0.        ,\n",
       "          0.        , 0.        ],\n",
       "         [0.        , 0.        , 0.        , ..., 0.        ,\n",
       "          0.        , 0.        ]]]], dtype=float32)"
      ]
     },
     "execution_count": 7,
     "metadata": {},
     "output_type": "execute_result"
    }
   ],
   "source": [
    "detection"
   ]
  },
  {
   "cell_type": "code",
   "execution_count": 8,
   "id": "1767e8f6",
   "metadata": {},
   "outputs": [
    {
     "data": {
      "text/plain": [
       "(1, 1, 200, 7)"
      ]
     },
     "execution_count": 8,
     "metadata": {},
     "output_type": "execute_result"
    }
   ],
   "source": [
    "detection.shape"
   ]
  },
  {
   "cell_type": "code",
   "execution_count": 9,
   "id": "c40fb09c",
   "metadata": {},
   "outputs": [
    {
     "data": {
      "text/plain": [
       "array([0.99828076, 0.93064046, 0.6649139 , 0.11303056, 0.0990653 ,\n",
       "       0.09581406, 0.09539089, 0.09210995, 0.09148148, 0.09004118,\n",
       "       0.0895226 , 0.08925451, 0.08845698, 0.08835823, 0.08817663,\n",
       "       0.08785023, 0.08761991, 0.08759254, 0.08733166, 0.08644598,\n",
       "       0.08633808, 0.08580608, 0.08571842, 0.08569968, 0.08565523,\n",
       "       0.08561652, 0.08543263, 0.08516434, 0.08498949, 0.0849054 ,\n",
       "       0.08472107, 0.08466662, 0.08451296, 0.08432195, 0.08402867,\n",
       "       0.08339364, 0.08325935, 0.08319435, 0.08300184, 0.08287058,\n",
       "       0.08281695, 0.0828022 , 0.08230657, 0.0820657 , 0.08128531,\n",
       "       0.08119455, 0.08109774, 0.0810788 , 0.08065075, 0.08063321,\n",
       "       0.08060356, 0.08035444, 0.08024479, 0.07988586, 0.07988258,\n",
       "       0.0797419 , 0.07961009, 0.07956649, 0.07941596, 0.07937436,\n",
       "       0.07934451, 0.0792764 , 0.07913708, 0.07913007, 0.0790798 ,\n",
       "       0.07904801, 0.07900919, 0.07894585, 0.07892098, 0.07890498,\n",
       "       0.0788851 , 0.07886861, 0.07882137, 0.07861339, 0.07850468,\n",
       "       0.07844833, 0.07844095, 0.07843614, 0.07838354, 0.0783501 ,\n",
       "       0.07828934, 0.07815128, 0.07812302, 0.07810944, 0.        ,\n",
       "       0.        , 0.        , 0.        , 0.        , 0.        ,\n",
       "       0.        , 0.        , 0.        , 0.        , 0.        ,\n",
       "       0.        , 0.        , 0.        , 0.        , 0.        ,\n",
       "       0.        , 0.        , 0.        , 0.        , 0.        ,\n",
       "       0.        , 0.        , 0.        , 0.        , 0.        ,\n",
       "       0.        , 0.        , 0.        , 0.        , 0.        ,\n",
       "       0.        , 0.        , 0.        , 0.        , 0.        ,\n",
       "       0.        , 0.        , 0.        , 0.        , 0.        ,\n",
       "       0.        , 0.        , 0.        , 0.        , 0.        ,\n",
       "       0.        , 0.        , 0.        , 0.        , 0.        ,\n",
       "       0.        , 0.        , 0.        , 0.        , 0.        ,\n",
       "       0.        , 0.        , 0.        , 0.        , 0.        ,\n",
       "       0.        , 0.        , 0.        , 0.        , 0.        ,\n",
       "       0.        , 0.        , 0.        , 0.        , 0.        ,\n",
       "       0.        , 0.        , 0.        , 0.        , 0.        ,\n",
       "       0.        , 0.        , 0.        , 0.        , 0.        ,\n",
       "       0.        , 0.        , 0.        , 0.        , 0.        ,\n",
       "       0.        , 0.        , 0.        , 0.        , 0.        ,\n",
       "       0.        , 0.        , 0.        , 0.        , 0.        ,\n",
       "       0.        , 0.        , 0.        , 0.        , 0.        ,\n",
       "       0.        , 0.        , 0.        , 0.        , 0.        ,\n",
       "       0.        , 0.        , 0.        , 0.        , 0.        ,\n",
       "       0.        , 0.        , 0.        , 0.        , 0.        ],\n",
       "      dtype=float32)"
      ]
     },
     "execution_count": 9,
     "metadata": {},
     "output_type": "execute_result"
    }
   ],
   "source": [
    "detection[0,0,:,2]"
   ]
  },
  {
   "cell_type": "markdown",
   "id": "d28f0722",
   "metadata": {},
   "source": [
    "# Real time face detection with DNN and openCV"
   ]
  },
  {
   "cell_type": "code",
   "execution_count": 32,
   "id": "0b61392e",
   "metadata": {},
   "outputs": [],
   "source": [
    "cap = cv2.VideoCapture(0)\n",
    "face_detection_model = cv2.dnn.readNetFromCaffe('./models/deploy.prototxt.txt', './models/res10_300x300_ssd_iter_140000_fp16.caffemodel')\n",
    "\n",
    "while True:\n",
    "    ret, frame = cap.read()\n",
    "    if ret == False:\n",
    "        break\n",
    "    image_detection = face_detection_dnn(frame)\n",
    "    \n",
    "    cv2.imshow('face detection real time', image_detection)\n",
    "    if cv2.waitKey(1) == ord('a'):\n",
    "        break\n",
    "cap.release()\n",
    "cv2.destroyAllWindows()"
   ]
  }
 ],
 "metadata": {
  "kernelspec": {
   "display_name": "Python 3 (ipykernel)",
   "language": "python",
   "name": "python3"
  },
  "language_info": {
   "codemirror_mode": {
    "name": "ipython",
    "version": 3
   },
   "file_extension": ".py",
   "mimetype": "text/x-python",
   "name": "python",
   "nbconvert_exporter": "python",
   "pygments_lexer": "ipython3",
   "version": "3.9.13"
  }
 },
 "nbformat": 4,
 "nbformat_minor": 5
}
