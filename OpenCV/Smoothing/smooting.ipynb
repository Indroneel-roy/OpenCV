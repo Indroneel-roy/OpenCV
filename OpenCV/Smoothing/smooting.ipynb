{
 "cells": [
  {
   "cell_type": "code",
   "execution_count": 1,
   "id": "cf44fbce",
   "metadata": {},
   "outputs": [],
   "source": [
    "import numpy as np\n",
    "import cv2"
   ]
  },
  {
   "cell_type": "code",
   "execution_count": 2,
   "id": "e637558f",
   "metadata": {},
   "outputs": [],
   "source": [
    "img = cv2.imread('./images/beach.jpg')"
   ]
  },
  {
   "cell_type": "markdown",
   "id": "fadea93e",
   "metadata": {},
   "source": [
    "# Avarage blur"
   ]
  },
  {
   "cell_type": "code",
   "execution_count": 3,
   "id": "bbaa048a",
   "metadata": {},
   "outputs": [],
   "source": [
    "blu_avg1 = cv2.blur(img,(3,3))\n",
    "blu_avg2 = cv2.blur(img,(5,5))\n",
    "blu_avg3 = cv2.blur(img,(7,7))\n",
    "blu_avg4 = cv2.blur(img,(9,9))\n",
    "blu_avg5 = cv2.blur(img,(11,11))"
   ]
  },
  {
   "cell_type": "code",
   "execution_count": null,
   "id": "0718d555",
   "metadata": {},
   "outputs": [],
   "source": [
    "cv2.imshow('original',img)\n",
    "cv2.imshow('beach 1',blu_avg1)\n",
    "cv2.imshow('beach 2',blu_avg2)\n",
    "cv2.imshow('beach 3',blu_avg3)\n",
    "cv2.imshow('beach 4',blu_avg4)\n",
    "cv2.imshow('beach 5',blu_avg5)\n",
    "\n",
    "cv2.waitKey(0)\n",
    "cv2.destroyAllWindows()"
   ]
  },
  {
   "cell_type": "markdown",
   "id": "7c3970cb",
   "metadata": {},
   "source": [
    "# Gaussian Blur"
   ]
  },
  {
   "cell_type": "code",
   "execution_count": 11,
   "id": "d7878135",
   "metadata": {},
   "outputs": [],
   "source": [
    "gaussian_blur1 = cv2.GaussianBlur(img,(3,3),0)\n",
    "gaussian_blur2 = cv2.GaussianBlur(img,(5,5),0)\n",
    "gaussian_blur3 = cv2.GaussianBlur(img,(7,7),0)\n",
    "gaussian_blur4 = cv2.GaussianBlur(img,(9,9),0)\n",
    "gaussian_blur5 = cv2.GaussianBlur(img,(11,11),0)"
   ]
  },
  {
   "cell_type": "code",
   "execution_count": 12,
   "id": "fa95c093",
   "metadata": {},
   "outputs": [],
   "source": [
    "cv2.imshow('original',img)\n",
    "cv2.imshow('beach 1',gaussian_blur1)\n",
    "cv2.imshow('beach 2',gaussian_blur2)\n",
    "cv2.imshow('beach 3',gaussian_blur3)\n",
    "cv2.imshow('beach 4',gaussian_blur4)\n",
    "cv2.imshow('beach 5',gaussian_blur5)\n",
    "\n",
    "cv2.waitKey(0)\n",
    "cv2.destroyAllWindows()"
   ]
  },
  {
   "cell_type": "markdown",
   "id": "1ea69581",
   "metadata": {},
   "source": [
    "# Median Blur"
   ]
  },
  {
   "cell_type": "code",
   "execution_count": 2,
   "id": "402cf589",
   "metadata": {},
   "outputs": [],
   "source": [
    "sp = cv2.imread('./images/sp_noise.jpg')\n",
    "cv2.imshow('noise picture', sp)\n",
    "cv2.waitKey(0)\n",
    "cv2.destroyAllWindows()"
   ]
  },
  {
   "cell_type": "code",
   "execution_count": 4,
   "id": "8ce9ad90",
   "metadata": {},
   "outputs": [],
   "source": [
    "median = cv2.medianBlur(sp,3)"
   ]
  },
  {
   "cell_type": "code",
   "execution_count": 6,
   "id": "0adb803f",
   "metadata": {},
   "outputs": [],
   "source": [
    "cv2.imshow('noise picture', sp)\n",
    "cv2.imshow('noiseless picture', median)\n",
    "cv2.waitKey(0)\n",
    "cv2.destroyAllWindows()"
   ]
  }
 ],
 "metadata": {
  "kernelspec": {
   "display_name": "Python 3 (ipykernel)",
   "language": "python",
   "name": "python3"
  },
  "language_info": {
   "codemirror_mode": {
    "name": "ipython",
    "version": 3
   },
   "file_extension": ".py",
   "mimetype": "text/x-python",
   "name": "python",
   "nbconvert_exporter": "python",
   "pygments_lexer": "ipython3",
   "version": "3.9.13"
  }
 },
 "nbformat": 4,
 "nbformat_minor": 5
}
