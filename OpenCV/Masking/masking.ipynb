{
 "cells": [
  {
   "cell_type": "code",
   "execution_count": 1,
   "id": "5b8325d9",
   "metadata": {},
   "outputs": [],
   "source": [
    "import numpy as np\n",
    "import cv2"
   ]
  },
  {
   "cell_type": "code",
   "execution_count": 2,
   "id": "87154912",
   "metadata": {},
   "outputs": [],
   "source": [
    "img = cv2.imread('beach.jpg')\n",
    "cv2.imshow('beach', img)\n",
    "cv2.waitKey(0)\n",
    "cv2.destroyAllWindows()"
   ]
  },
  {
   "cell_type": "code",
   "execution_count": 3,
   "id": "cff3586c",
   "metadata": {},
   "outputs": [],
   "source": [
    "mask = np.zeros(img.shape[:2],dtype='uint8')\n",
    "\n",
    "cv2.imshow('mask', mask)\n",
    "cv2.waitKey(0)\n",
    "cv2.destroyAllWindows()"
   ]
  },
  {
   "cell_type": "code",
   "execution_count": 4,
   "id": "6f6f46dd",
   "metadata": {},
   "outputs": [],
   "source": [
    "mask = np.zeros(img.shape[:2],dtype='uint8')\n",
    "\n",
    "cv2.imshow('mask',mask)\n",
    "cv2.waitKey(0)\n",
    "cv2.destroyAllWindows()"
   ]
  },
  {
   "cell_type": "code",
   "execution_count": 5,
   "id": "43f4f8fe",
   "metadata": {},
   "outputs": [],
   "source": [
    "cx,cy = mask.shape[1]//2, mask.shape[0]//2\n",
    "cv2.rectangle(mask, (cx-200, cy-200),(cx+200, cy+200),255,-1)\n",
    "\n",
    "cv2.imshow('mask', mask)\n",
    "cv2.waitKey(0)\n",
    "cv2.destroyAllWindows()"
   ]
  },
  {
   "cell_type": "code",
   "execution_count": 7,
   "id": "e1ebb4d5",
   "metadata": {},
   "outputs": [],
   "source": [
    "# show the white portion\n",
    "img_mask = cv2.bitwise_and(img,img, mask=mask)\n",
    "cv2.imshow('orginal',img)\n",
    "cv2.imshow('mask', img_mask)\n",
    "cv2.waitKey(0)\n",
    "cv2.destroyAllWindows()"
   ]
  },
  {
   "cell_type": "code",
   "execution_count": 8,
   "id": "9fc1a405",
   "metadata": {},
   "outputs": [],
   "source": [
    "img_mask_1 = cv2.bitwise_not(mask)\n",
    "cv2.imshow('not', img_mask_1)\n",
    "cv2.waitKey(0)\n",
    "cv2.destroyAllWindows()"
   ]
  },
  {
   "cell_type": "code",
   "execution_count": 9,
   "id": "884bea43",
   "metadata": {},
   "outputs": [],
   "source": [
    "# show the white portion\n",
    "img_mask_not = cv2.bitwise_and(img,img, mask=img_mask_1)\n",
    "cv2.imshow('orginal',img)\n",
    "cv2.imshow('mask', img_mask_not)\n",
    "cv2.waitKey(0)\n",
    "cv2.destroyAllWindows()"
   ]
  },
  {
   "cell_type": "code",
   "execution_count": 10,
   "id": "2daa244b",
   "metadata": {},
   "outputs": [],
   "source": [
    "#Circle\n",
    "mask_c = np.zeros(img.shape[:2],dtype='uint8')\n",
    "cx,cy = mask_c.shape[1]//2, mask_c.shape[0]//2\n",
    "\n",
    "cv2.circle(mask_c,(cx,cy), 200,255,-1)\n",
    "cv2.imshow('circle',mask_c)\n",
    "cv2.waitKey(0)\n",
    "cv2.destroyAllWindows()"
   ]
  },
  {
   "cell_type": "code",
   "execution_count": 11,
   "id": "12580c96",
   "metadata": {},
   "outputs": [],
   "source": [
    "# show the white portion\n",
    "img_mask = cv2.bitwise_and(img,img, mask=mask_c)\n",
    "cv2.imshow('orginal',img)\n",
    "cv2.imshow('mask', img_mask)\n",
    "cv2.waitKey(0)\n",
    "cv2.destroyAllWindows()"
   ]
  }
 ],
 "metadata": {
  "kernelspec": {
   "display_name": "Python 3 (ipykernel)",
   "language": "python",
   "name": "python3"
  },
  "language_info": {
   "codemirror_mode": {
    "name": "ipython",
    "version": 3
   },
   "file_extension": ".py",
   "mimetype": "text/x-python",
   "name": "python",
   "nbconvert_exporter": "python",
   "pygments_lexer": "ipython3",
   "version": "3.9.13"
  }
 },
 "nbformat": 4,
 "nbformat_minor": 5
}
