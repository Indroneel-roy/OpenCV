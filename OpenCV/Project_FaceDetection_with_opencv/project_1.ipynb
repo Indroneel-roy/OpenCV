{
 "cells": [
  {
   "cell_type": "code",
   "execution_count": 1,
   "id": "23d1dbc7",
   "metadata": {},
   "outputs": [],
   "source": [
    "import numpy as np\n",
    "import cv2\n"
   ]
  },
  {
   "cell_type": "code",
   "execution_count": 3,
   "id": "d4ea4312",
   "metadata": {},
   "outputs": [],
   "source": [
    "img = cv2.imread('faces.jpg')\n",
    "\n",
    "cv2.imshow('face', img)\n",
    "cv2.waitKey(0)\n",
    "cv2.destroyAllWindows()"
   ]
  },
  {
   "cell_type": "code",
   "execution_count": 4,
   "id": "24b4b504",
   "metadata": {},
   "outputs": [],
   "source": [
    "face_cascade = cv2.CascadeClassifier('./model/haarcascade_frontalfac.xml')"
   ]
  },
  {
   "cell_type": "code",
   "execution_count": 15,
   "id": "fcf51ef0",
   "metadata": {},
   "outputs": [],
   "source": [
    "# convert image into gray scale\n",
    "def face_dectection(img):\n",
    "    image = img.copy()\n",
    "    gray = cv2.cvtColor(img, cv2.COLOR_BGR2GRAY)\n",
    "    box, detection = face_cascade.detectMultiScale2(gray,minNeighbors=8)\n",
    "    #drawing bounding box\n",
    "    for x,y,w,h in box:\n",
    "        cv2.rectangle(image, (x,y), (x+w, y+h), (0,255,0),1)\n",
    "    return image"
   ]
  },
  {
   "cell_type": "code",
   "execution_count": 16,
   "id": "dda9d03d",
   "metadata": {},
   "outputs": [],
   "source": [
    "img_detect = face_dectection(img)\n",
    "cv2.imshow('face', img_detect)\n",
    "cv2.waitKey(0)\n",
    "cv2.destroyAllWindows()"
   ]
  },
  {
   "cell_type": "code",
   "execution_count": 9,
   "id": "d1a26fc6",
   "metadata": {},
   "outputs": [
    {
     "data": {
      "text/plain": [
       "array([[ 88,  75, 316, 316],\n",
       "       [697, 107, 248, 248],\n",
       "       [321,  84, 385, 385]])"
      ]
     },
     "execution_count": 9,
     "metadata": {},
     "output_type": "execute_result"
    }
   ],
   "source": [
    "box"
   ]
  },
  {
   "cell_type": "code",
   "execution_count": 10,
   "id": "382f7950",
   "metadata": {},
   "outputs": [
    {
     "data": {
      "text/plain": [
       "array([10, 37, 35])"
      ]
     },
     "execution_count": 10,
     "metadata": {},
     "output_type": "execute_result"
    }
   ],
   "source": [
    "detection"
   ]
  },
  {
   "cell_type": "markdown",
   "id": "db4d8931",
   "metadata": {},
   "source": [
    "# Real time face detection"
   ]
  },
  {
   "cell_type": "code",
   "execution_count": 22,
   "id": "45b50cfb",
   "metadata": {},
   "outputs": [],
   "source": [
    "cap = cv2.VideoCapture(0)\n",
    "face_cascade = cv2.CascadeClassifier('./model/haarcascade_frontalfac.xml')\n",
    "\n",
    "while True:\n",
    "    ret, frame = cap.read()\n",
    "    if ret == False:\n",
    "        break\n",
    "    img_detect = face_dectection(frame)\n",
    "    cv2.imshow('real time face detection', img_detect)\n",
    "    if cv2.waitKey(1) == ord('a'):\n",
    "        break\n",
    "    \n",
    "cap.release()\n",
    "cv2.destroyAllWindows()"
   ]
  }
 ],
 "metadata": {
  "kernelspec": {
   "display_name": "Python 3 (ipykernel)",
   "language": "python",
   "name": "python3"
  },
  "language_info": {
   "codemirror_mode": {
    "name": "ipython",
    "version": 3
   },
   "file_extension": ".py",
   "mimetype": "text/x-python",
   "name": "python",
   "nbconvert_exporter": "python",
   "pygments_lexer": "ipython3",
   "version": "3.9.13"
  }
 },
 "nbformat": 4,
 "nbformat_minor": 5
}
