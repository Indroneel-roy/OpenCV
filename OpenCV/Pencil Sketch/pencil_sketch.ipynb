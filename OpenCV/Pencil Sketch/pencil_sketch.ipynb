{
 "cells": [
  {
   "cell_type": "code",
   "execution_count": 1,
   "id": "9e7c082f",
   "metadata": {},
   "outputs": [],
   "source": [
    "import numpy as np\n",
    "import cv2"
   ]
  },
  {
   "cell_type": "code",
   "execution_count": 2,
   "id": "9666c61f",
   "metadata": {},
   "outputs": [],
   "source": [
    "img = cv2.imread('./images/friends.jpg')\n",
    "cv2.imshow('friends',img)\n",
    "cv2.waitKey(0)\n",
    "cv2.destroyAllWindows()"
   ]
  },
  {
   "cell_type": "markdown",
   "id": "ff623155",
   "metadata": {},
   "source": [
    "![images](images/pencil_sketch_flow.PNG)"
   ]
  },
  {
   "cell_type": "code",
   "execution_count": 3,
   "id": "6d6553e7",
   "metadata": {},
   "outputs": [],
   "source": [
    "def pencil_sketch(img,ksize,gamma):\n",
    "    #step-1: covert to gray scale\n",
    "    gray = cv2.cvtColor(img,cv2.COLOR_BGR2GRAY)\n",
    "    #step-2: apply gaussian blur\n",
    "    gaussian = cv2.GaussianBlur(gray,(ksize,ksize),0)\n",
    "    #step-3: division\n",
    "    division = cv2.divide(gray,gaussian,scale=256)\n",
    "    #step-4: adjust the gamma value\n",
    "    if gamma == 0:\n",
    "        gamma = 0.001\n",
    "      \n",
    "    elif gamma < 0:\n",
    "        raise Exception('Cannot Be Negative','Gamma value cannot be negative number (range = 0-1)')\n",
    "        \n",
    "    elif gamma > 1:\n",
    "        raise Exception('Cannot be greater than 1','Gamma value cannot greater than 1 (range = 0-1)')\n",
    "    invgamma = 1/gamma    \n",
    "    lut = np.array([((i/255)**invgamma)*255 for i in range(0,256)])\n",
    "\n",
    "    pencil_sketch = cv2.LUT(division.astype('uint8'), lut.astype('uint8'))\n",
    "    \n",
    "    return pencil_sketch"
   ]
  },
  {
   "cell_type": "code",
   "execution_count": 5,
   "id": "9a859f60",
   "metadata": {},
   "outputs": [],
   "source": [
    "pencil_img = pencil_sketch(img,7,0.1)"
   ]
  },
  {
   "cell_type": "code",
   "execution_count": 6,
   "id": "f77b6765",
   "metadata": {},
   "outputs": [],
   "source": [
    "cv2.imshow('orignial',img)\n",
    "cv2.imshow('Pencil Sketch',pencil_img)\n",
    "\n",
    "cv2.waitKey()\n",
    "cv2.destroyAllWindows()"
   ]
  },
  {
   "cell_type": "markdown",
   "id": "0dacb216",
   "metadata": {},
   "source": [
    "### GUI for pensil sketch"
   ]
  },
  {
   "cell_type": "code",
   "execution_count": 5,
   "id": "eaf5c093",
   "metadata": {},
   "outputs": [],
   "source": [
    "image = cv2.imread('./images/friends.jpg')\n",
    "\n",
    "#create control panel\n",
    "cv2.namedWindow('Control pannel', cv2.WINDOW_NORMAL)\n",
    "# cv2.namedWindow('Control pannel')\n",
    "cv2.resizeWindow('Control pannel', 300, 300)\n",
    "cv2.createTrackbar('ksize', 'Control pannel',1,100, (lambda x: None))\n",
    "cv2.createTrackbar('gamma', 'Control pannel', 1, 100, (lambda x: None))\n",
    "\n",
    "while True:\n",
    "    #take k value\n",
    "    k = cv2.getTrackbarPos('ksize', 'Control pannel')\n",
    "    # vaue of k will be odd\n",
    "    k = 2*k + 1\n",
    "    #calibrate the value of gamma\n",
    "    g = cv2.getTrackbarPos('gamma', 'Control pannel')\n",
    "    g = g/100\n",
    "    pencil_image = pencil_sketch(image,k,g)\n",
    "    \n",
    "    cv2.imshow('orginal',image)\n",
    "    cv2.imshow('sketch',pencil_image)\n",
    "    if cv2.waitKey(1) == 27:\n",
    "        break\n",
    "\n",
    "cv2.destroyAllWindows()"
   ]
  },
  {
   "cell_type": "code",
   "execution_count": null,
   "id": "69287a13",
   "metadata": {},
   "outputs": [],
   "source": []
  }
 ],
 "metadata": {
  "kernelspec": {
   "display_name": "Python 3 (ipykernel)",
   "language": "python",
   "name": "python3"
  },
  "language_info": {
   "codemirror_mode": {
    "name": "ipython",
    "version": 3
   },
   "file_extension": ".py",
   "mimetype": "text/x-python",
   "name": "python",
   "nbconvert_exporter": "python",
   "pygments_lexer": "ipython3",
   "version": "3.9.13"
  }
 },
 "nbformat": 4,
 "nbformat_minor": 5
}
